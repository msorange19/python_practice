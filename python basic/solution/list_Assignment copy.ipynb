{
 "cells": [
  {
   "cell_type": "markdown",
   "id": "bac29062",
   "metadata": {},
   "source": [
    "# Module 3: Data Structures Assignments\n",
    "## Lesson 3.1: Lists\n",
    "### Assignment 1: Creating and Accessing Lists\n",
    "Create a list of the first 20 positive integers. Print the list.\n",
    "\n"
   ]
  },
  {
   "cell_type": "code",
   "execution_count": 57,
   "id": "183ff148",
   "metadata": {},
   "outputs": [
    {
     "name": "stdout",
     "output_type": "stream",
     "text": [
      "[1, 2, 3, 4, 5, 6, 7, 8, 9, 10, 11, 12, 13, 14, 15, 16, 17, 18, 19, 20]\n"
     ]
    }
   ],
   "source": [
    "lst=list(range(1,21))\n",
    "print(lst)"
   ]
  },
  {
   "cell_type": "markdown",
   "id": "d0461b81",
   "metadata": {},
   "source": [
    "\n",
    "### Assignment 2: Accessing List Elements\n",
    "\n",
    "Print the first, middle, and last elements of the list created in Assignment 1.\n"
   ]
  },
  {
   "cell_type": "code",
   "execution_count": 58,
   "id": "15e3dfa0",
   "metadata": {},
   "outputs": [
    {
     "name": "stdout",
     "output_type": "stream",
     "text": [
      "[1]\n",
      "11\n",
      "20\n"
     ]
    }
   ],
   "source": [
    "print(lst[0:1])\n",
    "print(lst[len(lst)//2])\n",
    "print(lst[-1])"
   ]
  },
  {
   "cell_type": "markdown",
   "id": "c15458b8",
   "metadata": {},
   "source": [
    "\n",
    "\n",
    "### Assignment 3: List Slicing\n",
    "\n",
    "Print the first five elements, the last five elements, and the elements from index 5 to 15 of the list created in Assignment 1.\n"
   ]
  },
  {
   "cell_type": "code",
   "execution_count": 59,
   "id": "e6d8f6eb",
   "metadata": {},
   "outputs": [
    {
     "name": "stdout",
     "output_type": "stream",
     "text": [
      "[1, 2, 3, 4, 5]\n",
      "[16, 17, 18, 19, 20]\n",
      "[6, 7, 8, 9, 10, 11, 12, 13, 14, 15, 16]\n"
     ]
    }
   ],
   "source": [
    "print(lst[0:5])\n",
    "print(lst[-5::])\n",
    "print(lst[5:16])"
   ]
  },
  {
   "cell_type": "markdown",
   "id": "07fc69e0",
   "metadata": {},
   "source": [
    "\n",
    "### Assignment 4: List Comprehensions\n",
    "\n",
    "Create a new list containing the squares of the first 10 positive integers using a list comprehension. Print the new list.\n"
   ]
  },
  {
   "cell_type": "code",
   "execution_count": 60,
   "id": "982e7f93",
   "metadata": {},
   "outputs": [
    {
     "name": "stdout",
     "output_type": "stream",
     "text": [
      "[1, 4, 9, 16, 25, 36, 49, 64, 81, 100]\n"
     ]
    }
   ],
   "source": [
    "square=[x**2 for x in range(1,11)]\n",
    "print(square)"
   ]
  },
  {
   "cell_type": "markdown",
   "id": "f16e7ae3",
   "metadata": {},
   "source": [
    "\n",
    "### Assignment 5: Filtering Lists\n",
    "\n",
    "Create a new list containing only the even numbers from the list created in Assignment 1 using a list comprehension. Print the new list.\n"
   ]
  },
  {
   "cell_type": "code",
   "execution_count": 61,
   "id": "b5ae5fff",
   "metadata": {},
   "outputs": [
    {
     "name": "stdout",
     "output_type": "stream",
     "text": [
      "[2, 4, 6, 8, 10, 12, 14, 16, 18, 20]\n"
     ]
    }
   ],
   "source": [
    "even = [x for x in lst if x%2==0]\n",
    "print(even)"
   ]
  },
  {
   "cell_type": "markdown",
   "id": "f1c10244",
   "metadata": {},
   "source": [
    "\n",
    "### Assignment 6: List Methods\n",
    "\n",
    "Create a list of random numbers and sort it in ascending and descending order. Remove the duplicates from the list and print the modified list.\n"
   ]
  },
  {
   "cell_type": "code",
   "execution_count": 62,
   "id": "8c87a4ab",
   "metadata": {},
   "outputs": [
    {
     "name": "stdout",
     "output_type": "stream",
     "text": [
      "[18, 12, 3, 15, 4, 18, 4, 14, 2, 8, 13, 10, 8, 14, 12, 17, 11, 10, 17, 18]\n",
      "[2, 3, 4, 4, 8, 8, 10, 10, 11, 12, 12, 13, 14, 14, 15, 17, 17, 18, 18, 18]\n",
      "[18, 18, 18, 17, 17, 15, 14, 14, 13, 12, 12, 11, 10, 10, 8, 8, 4, 4, 3, 2]\n",
      "[2, 3, 4, 8, 10, 11, 12, 13, 14, 15, 17, 18]\n"
     ]
    }
   ],
   "source": [
    "import random\n",
    "data=[random.randrange(1,19) for i in range(20)]\n",
    "print(data)\n",
    "data_sort=sorted(data)\n",
    "print(data_sort)\n",
    "desc_sort=sorted(data,reverse=True)\n",
    "print(desc_sort)\n",
    "duplicate=list(set(data))\n",
    "print(duplicate)\n"
   ]
  },
  {
   "cell_type": "markdown",
   "id": "f92186cb",
   "metadata": {},
   "source": [
    "\n",
    "### Assignment 7: Nested Lists\n",
    "\n",
    "Create a nested list representing a 3x3 matrix and print the matrix. Access and print the element at the second row and third column.\n"
   ]
  },
  {
   "cell_type": "code",
   "execution_count": 63,
   "id": "d145d102",
   "metadata": {},
   "outputs": [
    {
     "name": "stdout",
     "output_type": "stream",
     "text": [
      "[1, 2, 3]\n",
      "[4, 5, 6]\n",
      "[7, 8, 9]\n",
      "second row and third column: 6\n"
     ]
    }
   ],
   "source": [
    "matrix=[[1,2,3],[4,5,6],[7,8,9]]\n",
    "for row in matrix:\n",
    "    print(row)\n",
    "print('second row and third column:',matrix[1][2])"
   ]
  },
  {
   "cell_type": "markdown",
   "id": "dda28032",
   "metadata": {},
   "source": [
    "\n",
    "### Assignment 8: List of Dictionaries\n",
    "\n",
    "Create a list of dictionaries where each dictionary represents a student with keys 'name' and 'score'. Sort the list of dictionaries by the 'score' in descending order and print the sorted list.\n"
   ]
  },
  {
   "cell_type": "code",
   "execution_count": 64,
   "id": "641bc9bc",
   "metadata": {},
   "outputs": [
    {
     "name": "stdout",
     "output_type": "stream",
     "text": [
      "{'name': 'Mike', 'score': 32, 'city': 'Chicago'}\n",
      "{'name': 'John', 'score': 25, 'city': 'New York'}\n",
      "{'name': 'Anna', 'score': 22, 'city': 'London'}\n"
     ]
    }
   ],
   "source": [
    "dict=[{'name':'John','score':25,'city':'New York'},\n",
    "         {'name':'Anna','score':22,'city':'London'},\n",
    "         {'name':'Mike','score':32,'city':'Chicago'}]\n",
    "sorted_dict=sorted(dict,key=lambda x:x['score'],reverse=True)\n",
    "for item in sorted_dict:\n",
    "    print(item)\n",
    "\n"
   ]
  },
  {
   "cell_type": "markdown",
   "id": "13128987",
   "metadata": {},
   "source": [
    "\n",
    "### Assignment 9: Matrix Transposition\n",
    "\n",
    "Write a function that takes a 3x3 matrix (nested list) as input and returns its transpose. Print the original and transposed matrices.\n"
   ]
  },
  {
   "cell_type": "code",
   "execution_count": null,
   "id": "833adc4a",
   "metadata": {},
   "outputs": [
    {
     "name": "stdout",
     "output_type": "stream",
     "text": [
      "[1, 2, 3]\n",
      "[4, 5, 6]\n",
      "[7, 8, 9]\n",
      "\n",
      " transposed\n",
      "[1, 4, 7]\n",
      "[2, 5, 8]\n",
      "[3, 6, 9]\n"
     ]
    }
   ],
   "source": [
    "def transposed(matrix):\n",
    "    return [[matrix[j][i] for j in range(len(matrix))] for i in range(len(matrix[0]))]\n",
    "\n",
    "# Example usage\n",
    "matrix = [[1, 2, 3], [4, 5, 6], [7, 8, 9]]\n",
    "for row in matrix:\n",
    "    print(row)\n",
    "transposeDataMatrix= transposed(matrix)\n",
    "print('\\n transposed')\n",
    "\n",
    "for row in transposeDataMatrix:\n",
    "    print(row)\n"
   ]
  },
  {
   "cell_type": "markdown",
   "id": "cfdd333e",
   "metadata": {},
   "source": [
    "\n",
    "### Assignment 10: Flattening a Nested List\n",
    "\n",
    "Write a function that takes a nested list and flattens it into a single list. Print the original and flattened lists.\n"
   ]
  },
  {
   "cell_type": "code",
   "execution_count": null,
   "id": "39975a5e",
   "metadata": {},
   "outputs": [
    {
     "name": "stdout",
     "output_type": "stream",
     "text": [
      "Flattened List: [1, 2, 3, 4, 5, 6, 7, 8, 9]\n"
     ]
    }
   ],
   "source": [
    "import itertools\n",
    "\n",
    "matrix =[\n",
    "    [1, 2, 3],\n",
    "    [4, 5, 6],\n",
    "    [7, 8, 9]\n",
    "]\n",
    "\n",
    "flattened = list(itertools.chain(*matrix))\n",
    "\n",
    "print(\"Flattened List:\", flattened)"
   ]
  },
  {
   "cell_type": "markdown",
   "id": "c9fde687",
   "metadata": {},
   "source": [
    "\n",
    "### Assignment 11: List Manipulation\n",
    "\n",
    "Create a list of the first 10 positive integers. Remove the elements at indices 2, 4, and 6, and insert the element '99' at index 5. Print the modified list."
   ]
  },
  {
   "cell_type": "code",
   "execution_count": 77,
   "id": "a11e7391",
   "metadata": {},
   "outputs": [
    {
     "name": "stdout",
     "output_type": "stream",
     "text": [
      "Original list: [1, 2, 3, 4, 5, 6, 7, 8, 9, 10]\n",
      "List after deletions: [1, 2, 4, 6, 8, 9, 10]\n"
     ]
    }
   ],
   "source": [
    "# Create a list of the first 10 positive integers\n",
    "lst = [i for i in range(1, 11)]\n",
    "print(f\"Original list: {lst}\")\n",
    "\n",
    "# Remove elements at indices 2, 4, and 6 using a list comprehension\n",
    "indices_to_remove = {2, 4, 6}\n",
    "lst = [x for i, x in enumerate(lst) if i not in indices_to_remove]\n",
    "print(f\"List after deletions: {lst}\")"
   ]
  },
  {
   "cell_type": "markdown",
   "id": "c73d5926",
   "metadata": {},
   "source": [
    "\n",
    "### Assignment 12: List Zipping\n",
    "\n",
    "Create two lists of the same length. Use the `zip` function to combine these lists into a list of tuples and print the result.\n"
   ]
  },
  {
   "cell_type": "code",
   "execution_count": 84,
   "id": "47ceee35",
   "metadata": {},
   "outputs": [
    {
     "name": "stdout",
     "output_type": "stream",
     "text": [
      "[([1, 2, 3], [0, 1, 2]), ([4, 5, 6], [3, 4, 5]), ([7, 8, 9], [6, 7, 8])]\n"
     ]
    }
   ],
   "source": [
    "zip_ = [[1, 2, 3], [4, 5, 6], [7, 8, 9]]\n",
    "zip_2 = [[0, 1, 2], [3, 4, 5], [6, 7, 8]]\n",
    "del list \n",
    "zipped = list(zip(zip_, zip_2))\n",
    "print(zipped)\n"
   ]
  },
  {
   "cell_type": "markdown",
   "id": "f255ead4",
   "metadata": {},
   "source": [
    "\n",
    "### Assignment 13: List Reversal\n",
    "\n",
    "Write a function that takes a list and returns a new list with the elements in reverse order. Print the original and reversed lists.\n"
   ]
  },
  {
   "cell_type": "code",
   "execution_count": null,
   "id": "82cbca11",
   "metadata": {},
   "outputs": [
    {
     "name": "stdout",
     "output_type": "stream",
     "text": [
      "Reversed list: [5, 4, 3, 2, 1]\n"
     ]
    }
   ],
   "source": [
    "def reverse_list(lst):\n",
    "    return lst[::-1]\n",
    "# Example usage\n",
    "my_list = [1, 2, 3, 4, 5]\n",
    "reversed_list = reverse_list(my_list)\n",
    "print(\"Reversed list:\", reversed_list)"
   ]
  },
  {
   "cell_type": "markdown",
   "id": "bb7eb532",
   "metadata": {},
   "source": [
    "\n",
    "### Assignment 14: List Rotation\n",
    "\n",
    "Write a function that rotates a list by n positions. Print the original and rotated lists.\n"
   ]
  },
  {
   "cell_type": "code",
   "execution_count": null,
   "id": "1bf7007d",
   "metadata": {},
   "outputs": [
    {
     "name": "stdout",
     "output_type": "stream",
     "text": [
      "Original list: [1, 2, 3, 4, 5]\n",
      "Rotated list: [3, 4, 5, 1, 2]\n"
     ]
    }
   ],
   "source": [
    "# -----------------------------------------\n",
    "# List Rotation in Python Using Slicing\n",
    "# -----------------------------------------\n",
    "# 1. List Slicing Overview:\n",
    "#    - lst[n:]: Returns elements from index 'n' to the end.\n",
    "#    - lst[:n]: Returns elements from the start up to (but not including) index 'n'.\n",
    "#\n",
    "# 2. Left Rotation (Forward Shift):\n",
    "#    - Goal: Move the first 'n' elements to the end.\n",
    "#    - Example: Rotate [1, 2, 3, 4, 5] left by 2 → [3, 4, 5, 1, 2].\n",
    "#    - How it works:\n",
    "#        lst[n:] gives [3, 4, 5]\n",
    "#        lst[:n] gives [1, 2]\n",
    "#        Concatenate → [3, 4, 5] + [1, 2] → [3, 4, 5, 1, 2]\n",
    "#\n",
    "# 3. Edge Case Handling:\n",
    "#    - If n > len(lst): Use modulo to wrap around: n = n % len(lst)\n",
    "#      Example: lst = [1, 2, 3], n = 5 → n = 5 % 3 = 2 → [3, 1, 2]\n",
    "#    - If n == 0: Return the original list unchanged\n",
    "\n",
    "def rotate_list(lst, n):\n",
    "    return lst[n:] + lst[:n]\n",
    "# Example usage\n",
    "my_list = [1, 2, 3, 4, 5]\n",
    "n = 2\n",
    "rotated_list = rotate_list(my_list, n)\n",
    "print(\"Original list:\", my_list)\n",
    "print(\"Rotated list:\", rotated_list)"
   ]
  },
  {
   "cell_type": "markdown",
   "id": "cb7bb082",
   "metadata": {},
   "source": [
    "\n",
    "### Assignment 15: List Intersection\n",
    "\n",
    "Write a function that takes two lists and returns a new list containing only the elements that are present in both lists. Print the intersected list."
   ]
  },
  {
   "cell_type": "code",
   "execution_count": 4,
   "id": "f94920aa",
   "metadata": {},
   "outputs": [
    {
     "name": "stdout",
     "output_type": "stream",
     "text": [
      "Common elements: [4, 5]\n"
     ]
    }
   ],
   "source": [
    "def sameDataArrayList(lst1, lst2):\n",
    "    return [x for x in lst1 if x in lst2]\n",
    "\n",
    "lst1 = [1, 2, 3, 4, 5]  \n",
    "lst2 = [4, 5, 6, 7, 8]\n",
    "result = sameDataArrayList(lst1, lst2)\n",
    "print(\"Common elements:\", result)\n"
   ]
  },
  {
   "cell_type": "markdown",
   "id": "644bbf11",
   "metadata": {},
   "source": []
  },
  {
   "cell_type": "markdown",
   "id": "408fac25",
   "metadata": {
    "vscode": {
     "languageId": "bat"
    }
   },
   "source": [
    "### Assignment 16\n",
    "#### convert all string elements in a list to uppercase using list comprehension.\n",
    "\n"
   ]
  },
  {
   "cell_type": "code",
   "execution_count": null,
   "id": "897179af",
   "metadata": {},
   "outputs": [
    {
     "name": "stdout",
     "output_type": "stream",
     "text": [
      "['HELLO', 'WORLD']\n"
     ]
    }
   ],
   "source": [
    "elem = [1,2,'hello','world']\n",
    "strData = (x.upper() for x in elem if isinstance(x, str))\n",
    "print(list(strData))\n",
    "   \n",
    "# Example usage\n"
   ]
  },
  {
   "cell_type": "markdown",
   "id": "dbc37a85",
   "metadata": {},
   "source": [
    "### Assignment 17\n",
    "#### Create a new list by filtering out all strings from a mixed list of integers and strings. "
   ]
  },
  {
   "cell_type": "code",
   "id": "9fff67bc",
   "metadata": {
    "ExecuteTime": {
     "end_time": "2025-05-09T15:32:26.649292Z",
     "start_time": "2025-05-09T15:32:26.644558Z"
    }
   },
   "source": [
    "def filter_integers(list_data):\n",
    "    return [x for x in list_data if type(x)==int]\n",
    "\n",
    "filterInteger = [1, 2, \"hello\", \"world\", 3, 4, 5]\n",
    "result = filter_integers(filterInteger)\n",
    "print(\"Filtered integers:\", result)"
   ],
   "outputs": [
    {
     "name": "stdout",
     "output_type": "stream",
     "text": [
      "Filtered integers: [1, 2, 3, 4, 5]\n"
     ]
    }
   ],
   "execution_count": 1
  }
 ],
 "metadata": {
  "kernelspec": {
   "display_name": "Python 3",
   "language": "python",
   "name": "python3"
  },
  "language_info": {
   "codemirror_mode": {
    "name": "ipython",
    "version": 3
   },
   "file_extension": ".py",
   "mimetype": "text/x-python",
   "name": "python",
   "nbconvert_exporter": "python",
   "pygments_lexer": "ipython3",
   "version": "3.12.0"
  }
 },
 "nbformat": 4,
 "nbformat_minor": 5
}
