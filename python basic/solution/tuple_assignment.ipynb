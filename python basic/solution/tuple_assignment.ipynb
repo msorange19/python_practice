{
 "cells": [
  {
   "cell_type": "markdown",
   "id": "6cade624",
   "metadata": {},
   "source": [
    "# Module 3: Data Structures Assignments\n",
    "## Lesson 3.2: Tuples\n",
    "### Assignment 1: Creating and Accessing Tuples\n",
    "\n",
    "Create a tuple with the first 10 positive integers. Print the tuple"
   ]
  },
  {
   "cell_type": "code",
   "id": "d4f3785d",
   "metadata": {
    "ExecuteTime": {
     "end_time": "2025-05-13T15:24:27.645227Z",
     "start_time": "2025-05-13T15:24:27.641804Z"
    }
   },
   "source": [
    "from setuptools.wheel import unpack\n",
    "\n",
    "tupleData = tuple(x for x in range(1,11))\n",
    "print(tuple(tupleData))"
   ],
   "outputs": [
    {
     "name": "stdout",
     "output_type": "stream",
     "text": [
      "(1, 2, 3, 4, 5, 6, 7, 8, 9, 10)\n"
     ]
    }
   ],
   "execution_count": 9
  },
  {
   "cell_type": "markdown",
   "id": "fd8a3d885ccdbdbe",
   "metadata": {},
   "source": [
    ".\n",
    "\n",
    "### Assignment 2: Accessing Tuple Elements\n",
    "\n",
    "Print the first, middle, and last elements of the tuple created in Assignment 1."
   ]
  },
  {
   "metadata": {
    "ExecuteTime": {
     "end_time": "2025-05-13T15:24:29.838827Z",
     "start_time": "2025-05-13T15:24:29.835147Z"
    }
   },
   "cell_type": "code",
   "source": [
    "firstTupleElem=tupleData[0:1]\n",
    "print(firstTupleElem)"
   ],
   "id": "f51b42d1df314238",
   "outputs": [
    {
     "name": "stdout",
     "output_type": "stream",
     "text": [
      "(1,)\n"
     ]
    }
   ],
   "execution_count": 10
  },
  {
   "metadata": {},
   "cell_type": "markdown",
   "source": [
    "\n",
    "### Assignment 3: Tuple Slicing\n",
    "\n",
    "Print the first three elements, the last three elements, and the elements from index 2 to 5 of the tuple created in Assignment 1."
   ],
   "id": "fcf515cb9f474a23"
  },
  {
   "metadata": {
    "ExecuteTime": {
     "end_time": "2025-05-13T15:37:11.580970Z",
     "start_time": "2025-05-13T15:37:11.577739Z"
    }
   },
   "cell_type": "code",
   "source": [
    "firstThree= tupleData[0:3]\n",
    "print(firstThree)\n",
    "lastThree= tupleData[-3:]\n",
    "print(lastThree)"
   ],
   "id": "4dbedfd1c047c681",
   "outputs": [
    {
     "name": "stdout",
     "output_type": "stream",
     "text": [
      "(1, 2, 3)\n",
      "(8, 9, 10)\n"
     ]
    }
   ],
   "execution_count": 24
  },
  {
   "metadata": {},
   "cell_type": "markdown",
   "source": [
    "\n",
    "### Assignment 4: Nested Tuples\n",
    "\n",
    "Create a nested tuple representing a 3x3 matrix and print the matrix. Access and print the element at the second row and third column."
   ],
   "id": "bc54ba8d082df4d5"
  },
  {
   "metadata": {
    "ExecuteTime": {
     "end_time": "2025-05-13T16:04:12.050881Z",
     "start_time": "2025-05-13T16:04:12.045665Z"
    }
   },
   "cell_type": "code",
   "source": [
    "matrix = ((1,3,4),(2,5,6),(7,8,9))\n",
    "\n",
    "for row in matrix:\n",
    "    print(row)\n",
    "print('second row and third column:',matrix[1][2])\n",
    "\n"
   ],
   "id": "ec4ccb321ea80424",
   "outputs": [
    {
     "name": "stdout",
     "output_type": "stream",
     "text": [
      "(1, 3, 4)\n",
      "(2, 5, 6)\n",
      "(7, 8, 9)\n",
      "second row and third column: 6\n"
     ]
    }
   ],
   "execution_count": 26
  },
  {
   "metadata": {},
   "cell_type": "markdown",
   "source": [
    "\n",
    "### Assignment 5: Tuple Concatenation\n",
    "\n",
    "Concatenate two tuples: (1, 2, 3) and (4, 5, 6). Print the resulting tuple."
   ],
   "id": "e3bad40690a1ac1a"
  },
  {
   "metadata": {
    "ExecuteTime": {
     "end_time": "2025-05-13T16:16:07.072276Z",
     "start_time": "2025-05-13T16:16:07.069142Z"
    }
   },
   "cell_type": "code",
   "source": [
    "tuples1 = (1,2,3)\n",
    "tuples2 = (4,5,6)\n",
    "result = tuples1 + tuples2\n",
    "print(result)\n"
   ],
   "id": "87eeeb7c1909d15",
   "outputs": [
    {
     "name": "stdout",
     "output_type": "stream",
     "text": [
      "(1, 2, 3, 4, 5, 6)\n"
     ]
    }
   ],
   "execution_count": 31
  },
  {
   "metadata": {},
   "cell_type": "markdown",
   "source": [
    "\n",
    "### Assignment 6: Tuple Methods\n",
    "\n",
    "Create a tuple with duplicate elements and count the occurrences of an element. Find the index of the first occurrence of an element in the tuple."
   ],
   "id": "e79f484a45901d75"
  },
  {
   "metadata": {
    "ExecuteTime": {
     "end_time": "2025-05-13T17:00:24.597490Z",
     "start_time": "2025-05-13T17:00:24.593889Z"
    }
   },
   "cell_type": "code",
   "source": [
    "dup = (1,1,35,3,4,3,7,8,7)\n",
    "target = 3\n",
    "print(dup.count(target))\n",
    "print(dup.index(3))\n",
    "\n"
   ],
   "id": "d096a4391172e213",
   "outputs": [
    {
     "name": "stdout",
     "output_type": "stream",
     "text": [
      "2\n",
      "3\n"
     ]
    }
   ],
   "execution_count": 4
  },
  {
   "metadata": {},
   "cell_type": "markdown",
   "source": [
    "\n",
    "### Assignment 7: Unpacking Tuples\n",
    "\n",
    "Create a tuple with 5 elements and unpack it into 5 variables. Print the variables."
   ],
   "id": "2b5cc9a3cf64ee5"
  },
  {
   "metadata": {
    "ExecuteTime": {
     "end_time": "2025-05-13T18:20:44.407640Z",
     "start_time": "2025-05-13T18:20:44.404121Z"
    }
   },
   "cell_type": "code",
   "source": [
    "pack_elem = (1,'home',4,\"package\",\"home\")\n",
    "a,b,c,d,e = pack_elem\n",
    "print(a)\n",
    "print(b)\n",
    "print(c)\n",
    "print(d)\n",
    "print(e)"
   ],
   "id": "b6e4d1a27785c6f8",
   "outputs": [
    {
     "name": "stdout",
     "output_type": "stream",
     "text": [
      "1\n",
      "home\n",
      "4\n",
      "package\n",
      "home\n"
     ]
    }
   ],
   "execution_count": 7
  },
  {
   "metadata": {},
   "cell_type": "markdown",
   "source": [
    "\n",
    "### Assignment 8: Tuple Conversion\n",
    "\n",
    "Convert a list of the first 5 positive integers to a tuple. Print the tuple."
   ],
   "id": "3b736ccc75a392e0"
  },
  {
   "metadata": {
    "ExecuteTime": {
     "end_time": "2025-05-13T18:26:24.187632Z",
     "start_time": "2025-05-13T18:26:24.183921Z"
    }
   },
   "cell_type": "code",
   "source": [
    "pos = list(x for x in range (1,6))\n",
    "print(tuple(pos))"
   ],
   "id": "26e8d4482291b902",
   "outputs": [
    {
     "name": "stdout",
     "output_type": "stream",
     "text": [
      "(1, 2, 3, 4, 5)\n"
     ]
    }
   ],
   "execution_count": 10
  },
  {
   "metadata": {},
   "cell_type": "markdown",
   "source": [
    "\n",
    "### Assignment 9: Tuple of Tuples\n",
    "\n",
    "Create a tuple containing 3 tuples, each with 3 elements. Print the tuple of tuples."
   ],
   "id": "d5bbedbce463eb8f"
  },
  {
   "metadata": {
    "ExecuteTime": {
     "end_time": "2025-05-14T18:26:02.777212Z",
     "start_time": "2025-05-14T18:26:02.773764Z"
    }
   },
   "cell_type": "code",
   "source": [
    "big_tup = ((12,2,5),(2,4,4),(5,2,9))\n",
    "print(big_tup)\n",
    "\n"
   ],
   "id": "6c929ae664051eb2",
   "outputs": [
    {
     "name": "stdout",
     "output_type": "stream",
     "text": [
      "((12, 2, 5), (2, 4, 4), (5, 2, 9))\n"
     ]
    }
   ],
   "execution_count": 14
  },
  {
   "metadata": {},
   "cell_type": "markdown",
   "source": [
    "\n",
    "### Assignment 10: Tuple and List\n",
    "\n",
    "Create a tuple with the first 5 positive integers. Convert it to a list, append the number 6, and convert it back to a tuple. Print the resulting tuple."
   ],
   "id": "18aee46b16b54ede"
  },
  {
   "metadata": {
    "ExecuteTime": {
     "end_time": "2025-05-14T18:20:01.307716Z",
     "start_time": "2025-05-14T18:20:01.301448Z"
    }
   },
   "cell_type": "code",
   "source": [
    "positive_int = tuple(x for x in range(1,6))\n",
    "con_list=list(positive_int)\n",
    "con_list.append(6)\n",
    "tup_revert = tuple(con_list)\n",
    "print(tup_revert)"
   ],
   "id": "302fef9dd1a678e2",
   "outputs": [
    {
     "name": "stdout",
     "output_type": "stream",
     "text": [
      "(1, 2, 3, 4, 5, 6)\n"
     ]
    }
   ],
   "execution_count": 13
  },
  {
   "metadata": {},
   "cell_type": "markdown",
   "source": [
    "\n",
    "### Assignment 11: Tuple and String\n",
    "\n",
    "Create a tuple with the characters of a string. Join the tuple elements into a single string. Print the string."
   ],
   "id": "f16f14075454e80d"
  },
  {
   "metadata": {
    "ExecuteTime": {
     "end_time": "2025-05-15T15:07:23.685247Z",
     "start_time": "2025-05-15T15:07:23.681509Z"
    }
   },
   "cell_type": "code",
   "source": [
    "char_=(\"h\",\"e\",\"l\",\"l\",\"o\")\n",
    "char_tup = tuple(char_)\n",
    "strCon= ''.join(char_tup)\n",
    "print(strCon)"
   ],
   "id": "97232d5ba7a2581c",
   "outputs": [
    {
     "name": "stdout",
     "output_type": "stream",
     "text": [
      "hello\n"
     ]
    }
   ],
   "execution_count": 26
  },
  {
   "metadata": {},
   "cell_type": "markdown",
   "source": [
    "\n",
    "### Assignment 12: Tuple and Dictionary\n",
    "\n",
    "Create a dictionary with tuple keys and integer values. Print the dictionary."
   ],
   "id": "1be71546ee1d18a7"
  },
  {
   "metadata": {
    "ExecuteTime": {
     "end_time": "2025-05-17T16:43:28.324993Z",
     "start_time": "2025-05-17T16:43:28.320035Z"
    }
   },
   "cell_type": "code",
   "source": [
    "d_tup={(1,2):\"point A\",\n",
    "       (4,5):\"point b\"}\n",
    "print(d_tup)"
   ],
   "id": "251274763d99e7da",
   "outputs": [
    {
     "name": "stdout",
     "output_type": "stream",
     "text": [
      "{(1, 2): 'point A', (4, 5): 'point b'}\n"
     ]
    }
   ],
   "execution_count": 1
  },
  {
   "metadata": {},
   "cell_type": "markdown",
   "source": [
    "\n",
    "### Assignment 13: Nested Tuple Iteration\n",
    "\n",
    "Create a nested tuple and iterate over the elements, printing each element."
   ],
   "id": "ef3e368204f8c946"
  },
  {
   "metadata": {
    "ExecuteTime": {
     "end_time": "2025-05-17T16:51:32.198300Z",
     "start_time": "2025-05-17T16:51:32.194143Z"
    }
   },
   "cell_type": "code",
   "source": [
    "nested_tpl = (\n",
    "    (1, 2, 3),\n",
    "    (4, 5, 6),\n",
    "    (7, 8, 9)\n",
    ")\n",
    "for tpl in nested_tpl:\n",
    "    for elem in tpl:\n",
    "        print(elem)"
   ],
   "id": "31785467c76ba742",
   "outputs": [
    {
     "name": "stdout",
     "output_type": "stream",
     "text": [
      "1\n",
      "2\n",
      "3\n",
      "4\n",
      "5\n",
      "6\n",
      "7\n",
      "8\n",
      "9\n"
     ]
    }
   ],
   "execution_count": 3
  },
  {
   "metadata": {},
   "cell_type": "markdown",
   "source": [
    "\n",
    "### Assignment 14: Tuple and Set\n",
    "\n",
    "Create a tuple with duplicate elements. Convert it to a set to remove duplicates and print the resulting set."
   ],
   "id": "ffe03a3e9c423241"
  },
  {
   "metadata": {
    "ExecuteTime": {
     "end_time": "2025-05-17T17:07:14.160214Z",
     "start_time": "2025-05-17T17:07:14.156104Z"
    }
   },
   "cell_type": "code",
   "source": [
    "dup_elem = (1,2,4,5,6,4,7,8)\n",
    "rem_elem = set(dup_elem)\n",
    "print(rem_elem)\n"
   ],
   "id": "a6ec95046091a61a",
   "outputs": [
    {
     "name": "stdout",
     "output_type": "stream",
     "text": [
      "{1, 2, 4, 5, 6, 7, 8}\n"
     ]
    }
   ],
   "execution_count": 4
  },
  {
   "metadata": {},
   "cell_type": "markdown",
   "source": [
    "\n",
    "### Assignment 15: Tuple Functions\n",
    "\n",
    "Write functions that take a tuple and return the minimum, maximum, and sum of the elements. Print the results for a sample tuple."
   ],
   "id": "8c3ebf31"
  },
  {
   "cell_type": "code",
   "metadata": {
    "ExecuteTime": {
     "end_time": "2025-05-18T15:23:27.270478Z",
     "start_time": "2025-05-18T15:23:27.266903Z"
    }
   },
   "source": [
    "def tuple_min_fun(tup):\n",
    "    return min(tup)\n",
    "def tuple_max_fun(tup):\n",
    "    return max(tup)\n",
    "def tuple_sum_fun(tup):\n",
    "    return sum(tup)\n",
    "tup=(1,1,3,4,5)\n",
    "\n",
    "print(tuple_min_fun(tup))\n",
    "print(tuple_max_fun(tup))\n",
    "print(tuple_sum_fun(tup))"
   ],
   "id": "818591a1a1291ad4",
   "outputs": [
    {
     "name": "stdout",
     "output_type": "stream",
     "text": [
      "1\n",
      "5\n",
      "14\n"
     ]
    }
   ],
   "execution_count": 7
  }
 ],
 "metadata": {
  "kernelspec": {
   "display_name": "Python 3",
   "language": "python",
   "name": "python3"
  },
  "language_info": {
   "codemirror_mode": {
    "name": "ipython",
    "version": 3
   },
   "file_extension": ".py",
   "mimetype": "text/x-python",
   "name": "python",
   "nbconvert_exporter": "python",
   "pygments_lexer": "ipython3",
   "version": "3.12.0"
  }
 },
 "nbformat": 4,
 "nbformat_minor": 5
}
