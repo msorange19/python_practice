{
 "cells": [
  {
   "cell_type": "markdown",
   "metadata": {},
   "source": [
    "# Module 3: Data Structures Assignments\n",
    "## Lesson 3.4: Dictionaries\n",
    "### Assignment 1: Creating and Accessing Dictionaries\n",
    "\n",
    "Create a dictionary with the first 10 positive integers as keys and their squares as values. Print the dictionary."
   ],
   "id": "35b76a8269be8885"
  },
  {
   "metadata": {
    "ExecuteTime": {
     "end_time": "2025-05-22T18:28:21.221951Z",
     "start_time": "2025-05-22T18:28:21.218117Z"
    }
   },
   "cell_type": "code",
   "source": [
    "dict_st={x:x**2 for x in range(1,11)}\n",
    "print(dict_st)"
   ],
   "id": "d3e0b2d553273c2d",
   "outputs": [
    {
     "name": "stdout",
     "output_type": "stream",
     "text": [
      "{1: 1, 2: 4, 3: 9, 4: 16, 5: 25, 6: 36, 7: 49, 8: 64, 9: 81, 10: 100}\n"
     ]
    }
   ],
   "execution_count": 4
  },
  {
   "metadata": {},
   "cell_type": "markdown",
   "source": [
    "\n",
    "### Assignment 2: Accessing Dictionary Elements\n",
    "\n",
    "Print the value of the key 5 and the keys of the dictionary created in Assignment 1."
   ],
   "id": "d3917eba351dacd"
  },
  {
   "metadata": {
    "ExecuteTime": {
     "end_time": "2025-05-19T18:05:52.059067Z",
     "start_time": "2025-05-19T18:05:52.054135Z"
    }
   },
   "cell_type": "code",
   "source": [
    "dict_set={\"name\":\"max\",\"roll\":2,\"class\":4,\"age\":\"18\",\"section\":\"B\",\"address\":\"dhaka\"}\n",
    "# Convert keys and values to lists\n",
    "keys_list = list(dict_set.keys())\n",
    "values_list = list(dict_set.values())\n",
    "\n",
    "# Get the 5th item (index 4)\n",
    "fifth_key=keys_list[4]\n",
    "fifth_value = values_list[4]\n",
    "\n",
    "# Print the 5th value\n",
    "print(\"5th key:\", fifth_key)\n",
    "print(\"5th Value:\", fifth_value)\n",
    "\n",
    "# Print all keys\n",
    "print(\"Keys:\", keys_list)\n"
   ],
   "id": "f913f4aca61db07d",
   "outputs": [
    {
     "name": "stdout",
     "output_type": "stream",
     "text": [
      "5th key: section\n",
      "5th Value: B\n",
      "Keys: ['name', 'roll', 'class', 'age', 'section', 'address']\n"
     ]
    }
   ],
   "execution_count": 12
  },
  {
   "metadata": {},
   "cell_type": "markdown",
   "source": [
    "\n",
    "### Assignment 3: Dictionary Methods\n",
    "\n",
    "Add a new key-value pair (11, 121) to the dictionary created in Assignment 1 and then remove the key-value pair with key 1. Print the modified dictionary."
   ],
   "id": "6667af578c8f7c0f"
  },
  {
   "metadata": {
    "ExecuteTime": {
     "end_time": "2025-05-19T18:11:32.379844Z",
     "start_time": "2025-05-19T18:11:32.376651Z"
    }
   },
   "cell_type": "code",
   "source": [
    "dict_st[11]=121\n",
    "dict_st.pop(1)\n",
    "print(dict_st)"
   ],
   "id": "8dfeab34e6b1054f",
   "outputs": [
    {
     "name": "stdout",
     "output_type": "stream",
     "text": [
      "{2: 4, 3: 9, 4: 16, 5: 25, 6: 36, 7: 49, 8: 64, 9: 81, 10: 100, 11: 121}\n"
     ]
    }
   ],
   "execution_count": 18
  },
  {
   "metadata": {},
   "cell_type": "markdown",
   "source": [
    "\n",
    "### Assignment 4: Iterating Over Dictionaries\n",
    "\n",
    "Iterate over the dictionary created in Assignment 1 and print each key-value pair."
   ],
   "id": "e66611abc3584dc"
  },
  {
   "metadata": {
    "ExecuteTime": {
     "end_time": "2025-05-22T18:28:25.074184Z",
     "start_time": "2025-05-22T18:28:25.071190Z"
    }
   },
   "cell_type": "code",
   "source": [
    "for key,value in dict_st.items():\n",
    "    print(f\"{key}:{value}\")"
   ],
   "id": "3f33e6bbb7930905",
   "outputs": [
    {
     "name": "stdout",
     "output_type": "stream",
     "text": [
      "1:1\n",
      "2:4\n",
      "3:9\n",
      "4:16\n",
      "5:25\n",
      "6:36\n",
      "7:49\n",
      "8:64\n",
      "9:81\n",
      "10:100\n"
     ]
    }
   ],
   "execution_count": 5
  },
  {
   "metadata": {},
   "cell_type": "markdown",
   "source": [
    "\n",
    "### Assignment 5: Dictionary Comprehensions\n",
    "\n",
    "Create a new dictionary containing the cubes of the first 10 positive integers using a dictionary comprehension. Print the new dictionary."
   ],
   "id": "78ece4ee95ee9b65"
  },
  {
   "metadata": {
    "ExecuteTime": {
     "end_time": "2025-05-22T18:44:39.289642Z",
     "start_time": "2025-05-22T18:44:39.286274Z"
    }
   },
   "cell_type": "code",
   "source": [
    "cubes = {x: x**3 for x in range(1,11) }\n",
    "print(cubes)"
   ],
   "id": "9984a59476797b9f",
   "outputs": [
    {
     "name": "stdout",
     "output_type": "stream",
     "text": [
      "{1: 1, 2: 8, 3: 27, 4: 64, 5: 125, 6: 216, 7: 343, 8: 512, 9: 729, 10: 1000}\n"
     ]
    }
   ],
   "execution_count": 6
  },
  {
   "metadata": {},
   "cell_type": "markdown",
   "source": [
    "\n",
    "### Assignment 6: Merging Dictionaries\n",
    "\n",
    "Create two dictionaries: one with keys as the first 5 positive integers and values as their squares, and another with keys as the next 5 positive integers and values as their squares. Merge these dictionaries into a single dictionary and print it."
   ],
   "id": "5cda110793c1329f"
  },
  {
   "metadata": {
    "ExecuteTime": {
     "end_time": "2025-05-23T16:45:43.984049Z",
     "start_time": "2025-05-23T16:45:43.980242Z"
    }
   },
   "cell_type": "code",
   "source": [
    "dict_1= {x:x**2 for x in range (1,6)}\n",
    "dict_2= {x:x**2 for x in range (6,11)}\n",
    "\n",
    "merge_dict= {**dict_1,**dict_2}\n",
    "print(f\"{merge_dict}\")"
   ],
   "id": "62c45289becd02e2",
   "outputs": [
    {
     "name": "stdout",
     "output_type": "stream",
     "text": [
      "{1: 1, 2: 4, 3: 9, 4: 16, 5: 25, 6: 36, 7: 49, 8: 64, 9: 81, 10: 100}\n"
     ]
    }
   ],
   "execution_count": 8
  },
  {
   "metadata": {},
   "cell_type": "markdown",
   "source": [
    "\n",
    "### Assignment 7: Nested Dictionaries\n",
    "\n",
    "Create a nested dictionary representing a student with keys 'name', 'age', 'grades', where 'grades' is another dictionary with keys 'math', 'science', and 'english'. Print the nested dictionary.\n",
    "\n",
    "### Assignment 8: Dictionary of Lists\n",
    "\n",
    "Create a dictionary where the keys are the first 5 positive integers and the values are lists containing the first 5 multiples of the key. Print the dictionary.\n",
    "\n",
    "### Assignment 9: Dictionary of Tuples\n",
    "\n",
    "Create a dictionary where the keys are the first 5 positive integers and the values are tuples containing the key and its square. Print the dictionary.\n",
    "\n",
    "### Assignment 10: Dictionary and List Conversion\n",
    "\n",
    "Create a dictionary with the first 5 positive integers as keys and their squares as values. Convert the dictionary to a list of tuples and print it.\n",
    "\n",
    "### Assignment 11: Dictionary Filtering\n",
    "\n",
    "Create a dictionary with the first 10 positive integers as keys and their squares as values. Create a new dictionary containing only the key-value pairs where the key is even. Print the new dictionary.\n",
    "\n",
    "### Assignment 12: Dictionary Key and Value Transformation\n",
    "\n",
    "Create a dictionary with the first 5 positive integers as keys and their squares as values. Create a new dictionary with keys and values swapped. Print the new dictionary.\n",
    "\n",
    "### Assignment 13: Default Dictionary\n",
    "\n",
    "Create a default dictionary where each key has a default value of an empty list. Add some elements to the lists and print the dictionary.\n",
    "\n",
    "### Assignment 14: Counting with Dictionaries\n",
    "\n",
    "Write a function that takes a string and returns a dictionary with the count of each character in the string. Print the dictionary.\n",
    "\n",
    "### Assignment 15: Dictionary and JSON\n",
    "\n",
    "Create a dictionary representing a book with keys 'title', 'author', 'year', and 'genre'. Convert the dictionary to a JSON string and print it."
   ],
   "id": "9ba191bc070e4c0"
  },
  {
   "cell_type": "code",
   "execution_count": null,
   "metadata": {},
   "outputs": [],
   "source": [],
   "id": "5df2a0df09b9921"
  }
 ],
 "metadata": {
  "kernelspec": {
   "display_name": "Python 3",
   "language": "python",
   "name": "python3"
  },
  "language_info": {
   "codemirror_mode": {
    "name": "ipython",
    "version": 3
   },
   "file_extension": ".py",
   "mimetype": "text/x-python",
   "name": "python",
   "nbconvert_exporter": "python",
   "pygments_lexer": "ipython3",
   "version": "3.9.7"
  }
 },
 "nbformat": 4,
 "nbformat_minor": 5
}
