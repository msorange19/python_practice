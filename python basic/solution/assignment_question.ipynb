{
 "cells": [
  {
   "cell_type": "markdown",
   "metadata": {},
   "source": [
    "# Lesson 1.2: Python Basics\n",
    "## Topics Covered:\n",
    "- Syntax and Semantics\n",
    "- Variables and Data Types\n",
    "- Basic Operators (Arithmetic, Comparison, Logical)\n"
   ]
  },
  {
   "cell_type": "markdown",
   "metadata": {},
   "source": [
    "## 1. Syntax and Semantics\n",
    "\n",
    "**Question 1:** Write a Python program to print \"Hello, World!\"."
   ]
  },
  {
   "cell_type": "code",
   "execution_count": 1,
   "metadata": {},
   "outputs": [
    {
     "name": "stdout",
     "output_type": "stream",
     "text": [
      "hello world\n"
     ]
    }
   ],
   "source": [
    "# Your code here\n",
    "print('hello world')"
   ]
  },
  {
   "cell_type": "markdown",
   "metadata": {},
   "source": [
    "**Question 2:** Write a Python program that takes a user input and prints it."
   ]
  },
  {
   "cell_type": "code",
   "execution_count": 2,
   "metadata": {},
   "outputs": [
    {
     "name": "stdout",
     "output_type": "stream",
     "text": [
      "The number is: 5\n"
     ]
    }
   ],
   "source": [
    "# Your code here\n",
    "num=int(input('Enter a number: '))\n",
    "print('The number is:', num)"
   ]
  },
  {
   "cell_type": "markdown",
   "metadata": {},
   "source": [
    "**Question 3:** Write a Python program to check if a number is positive, negative, or zero."
   ]
  },
  {
   "cell_type": "code",
   "execution_count": 4,
   "metadata": {},
   "outputs": [
    {
     "name": "stdout",
     "output_type": "stream",
     "text": [
      "The number is negative\n"
     ]
    }
   ],
   "source": [
    "# Your code here\n",
    "\n",
    "num = int(input('Enter a number: '))\n",
    "\n",
    "if num>0:\n",
    "    print('The number is positive')\n",
    "elif num<0:\n",
    "    print('The number is negative')\n",
    "else:\n",
    "    print('The number is zero')"
   ]
  },
  {
   "cell_type": "markdown",
   "metadata": {},
   "source": [
    "**Question 4:** Write a Python program to find the largest of three numbers."
   ]
  },
  {
   "cell_type": "code",
   "execution_count": 12,
   "metadata": {},
   "outputs": [
    {
     "name": "stdout",
     "output_type": "stream",
     "text": [
      "The largest number is: 9\n"
     ]
    }
   ],
   "source": [
    "# Your code here\n",
    "numbers = [9, 3, 0]\n",
    "largest = max(numbers)\n",
    "print('The largest number is:', largest)\n"
   ]
  },
  {
   "cell_type": "markdown",
   "metadata": {},
   "source": [
    "**Question 5:** Write a Python program to calculate the factorial of a number."
   ]
  },
  {
   "cell_type": "code",
   "execution_count": 15,
   "metadata": {},
   "outputs": [
    {
     "name": "stdout",
     "output_type": "stream",
     "text": [
      "The factorial of 42 is 1405006117752879898543142606244511569936384000000000\n"
     ]
    },
    {
     "data": {
      "text/plain": [
       "1405006117752879898543142606244511569936384000000000"
      ]
     },
     "execution_count": 15,
     "metadata": {},
     "output_type": "execute_result"
    }
   ],
   "source": [
    "# Your code here\n",
    "num= 42\n",
    "factorial = 1\n",
    "for i in range(1, num + 1):\n",
    "    factorial *= i\n",
    "print('The factorial of', num, 'is', factorial)\n",
    "# Your code here\n",
    "import math\n",
    "num = int(input('Enter a number: '))\n",
    "math.factorial(num)"
   ]
  },
  {
   "cell_type": "markdown",
   "metadata": {},
   "source": [
    "## 2. Variables and Data Types\n",
    "\n",
    "**Question 6:** Create variables of different data types: integer, float, string, and boolean. Print their values and types."
   ]
  },
  {
   "cell_type": "code",
   "execution_count": 18,
   "metadata": {},
   "outputs": [
    {
     "name": "stdout",
     "output_type": "stream",
     "text": [
      "The number is: 45\n",
      "The number is float: 45.0\n",
      "The number is string: 45\n",
      "The number is boolean: True\n"
     ]
    }
   ],
   "source": [
    "# Your code here\n",
    "intnum = int(input('Enter a number: '))\n",
    "print('The number is:', intnum)\n",
    "print('The number is float:', float(intnum))\n",
    "print('The number is string:', str(intnum))\n",
    "print('The number is boolean:', bool(intnum))"
   ]
  },
  {
   "cell_type": "markdown",
   "metadata": {},
   "source": [
    "**Question 7:** Write a Python program to swap the values of two variables."
   ]
  },
  {
   "cell_type": "code",
   "execution_count": 24,
   "metadata": {},
   "outputs": [
    {
     "name": "stdout",
     "output_type": "stream",
     "text": [
      "The value of num1 is: 12\n",
      "The value of num2 is: 23\n"
     ]
    }
   ],
   "source": [
    "# Your code here\n",
    "num1= 23\n",
    "num2=12\n",
    "swap= num1\n",
    "num1= num2\n",
    "num2=swap\n",
    "print('The value of num1 is:', num1)\n",
    "print('The value of num2 is:', num2)"
   ]
  },
  {
   "cell_type": "markdown",
   "metadata": {},
   "source": [
    "**Question 8:** Write a Python program to convert Celsius to Fahrenheit."
   ]
  },
  {
   "cell_type": "code",
   "execution_count": 25,
   "metadata": {},
   "outputs": [
    {
     "name": "stdout",
     "output_type": "stream",
     "text": [
      "Temperature in Fahrenheit: 89.6\n"
     ]
    }
   ],
   "source": [
    "# Your code here\n",
    "celcius = float(input('Enter temperature in Celsius: '))\n",
    "fahrenheit = (celcius * 9/5) + 32\n",
    "print('Temperature in Fahrenheit:', fahrenheit)"
   ]
  },
  {
   "cell_type": "markdown",
   "metadata": {},
   "source": [
    "**Question 9:** Write a Python program to concatenate two strings."
   ]
  },
  {
   "cell_type": "code",
   "execution_count": null,
   "metadata": {},
   "outputs": [
    {
     "name": "stdout",
     "output_type": "stream",
     "text": [
      "The concatenated string is: helloworld\n"
     ]
    }
   ],
   "source": [
    "# Your code here\n",
    "strin1 =\"hello\"\n",
    "string2=\"world\"\n",
    "string3= strin1 + string2\n",
    "print('The concatenated string is:', string3)"
   ]
  },
  {
   "cell_type": "markdown",
   "metadata": {},
   "source": [
    "**Question 10:** Write a Python program to check if a variable is of a specific data type."
   ]
  },
  {
   "cell_type": "code",
   "execution_count": null,
   "metadata": {},
   "outputs": [],
   "source": [
    "# Your code here"
   ]
  },
  {
   "cell_type": "markdown",
   "metadata": {},
   "source": [
    "## 3. Basic Operators (Arithmetic, Comparison, Logical)\n",
    "\n",
    "**Question 11:** Write a Python program to perform arithmetic operations: addition, subtraction, multiplication, and division."
   ]
  },
  {
   "cell_type": "code",
   "execution_count": null,
   "metadata": {},
   "outputs": [],
   "source": [
    "# Your code here"
   ]
  },
  {
   "cell_type": "markdown",
   "metadata": {},
   "source": [
    "**Question 12:** Write a Python program to demonstrate comparison operators: equal to, not equal to, greater than, less than."
   ]
  },
  {
   "cell_type": "code",
   "execution_count": null,
   "metadata": {},
   "outputs": [],
   "source": [
    "# Your code here"
   ]
  },
  {
   "cell_type": "markdown",
   "metadata": {},
   "source": [
    "**Question 13:** Write a Python program to demonstrate logical operators: and, or, not."
   ]
  },
  {
   "cell_type": "code",
   "execution_count": null,
   "metadata": {},
   "outputs": [],
   "source": [
    "# Your code here"
   ]
  },
  {
   "cell_type": "markdown",
   "metadata": {},
   "source": [
    "**Question 14:** Write a Python program to calculate the square of a number."
   ]
  },
  {
   "cell_type": "code",
   "execution_count": null,
   "metadata": {},
   "outputs": [],
   "source": [
    "# Your code here"
   ]
  },
  {
   "cell_type": "markdown",
   "metadata": {},
   "source": [
    "**Question 15:** Write a Python program to check if a number is even or odd."
   ]
  },
  {
   "cell_type": "code",
   "execution_count": 27,
   "metadata": {},
   "outputs": [
    {
     "name": "stdout",
     "output_type": "stream",
     "text": [
      "The number is odd\n"
     ]
    }
   ],
   "source": [
    "# Your code here\n",
    "num = int(input('Enter a number: '))\n",
    "if num % 2 == 0:\n",
    "    print('The number is even')\n",
    "else:\n",
    "    print('The number is odd')"
   ]
  },
  {
   "cell_type": "markdown",
   "metadata": {},
   "source": [
    "**Question 16:** Write a Python program to find the sum of the first n natural numbers."
   ]
  },
  {
   "cell_type": "code",
   "execution_count": 45,
   "metadata": {},
   "outputs": [
    {
     "name": "stdout",
     "output_type": "stream",
     "text": [
      "The sum of first 0 numbers is: 0\n",
      "1\n",
      "The sum of first 1 numbers is: 1\n",
      "2\n",
      "The sum of first 2 numbers is: 3\n",
      "3\n",
      "The sum of first 3 numbers is: 6\n",
      "4\n",
      "The sum of first 4 numbers is: 10\n",
      "5\n",
      "The sum of first 5 numbers is: 15\n",
      "6\n",
      "The sum of first 6 numbers is: 21\n",
      "7\n",
      "The sum of first 7 numbers is: 28\n",
      "8\n",
      "The sum of first 8 numbers is: 36\n",
      "9\n",
      "The sum of first 9 numbers is: 45\n",
      "10\n",
      "The sum of first 10 numbers is: 55\n",
      "11\n",
      "55\n"
     ]
    }
   ],
   "source": [
    "# Your code here\n",
    "num=10\n",
    "sum=0\n",
    "count=0\n",
    "while count<=num:\n",
    "        sum = sum+count\n",
    "        print('The sum of first', count, 'numbers is:', sum)\n",
    "        count=count+1\n",
    "        print(count)\n",
    "print(sum)"
   ]
  },
  {
   "cell_type": "markdown",
   "metadata": {},
   "source": [
    "**Question 17:** Write a Python program to check if a year is a leap year."
   ]
  },
  {
   "cell_type": "code",
   "execution_count": 49,
   "metadata": {},
   "outputs": [
    {
     "name": "stdout",
     "output_type": "stream",
     "text": [
      "2024 is a leap year\n"
     ]
    }
   ],
   "source": [
    "# Your code here\n",
    "year = int(input('Enter a year: '))\n",
    "if (year % 4 == 0 and year % 100 != 0) or (year % 400 == 0):\n",
    "    print(year, 'is a leap year')\n",
    "else:\n",
    "    print(year, 'is not a leap year')"
   ]
  },
  {
   "cell_type": "markdown",
   "metadata": {},
   "source": [
    "**Question 18:** Write a Python program to reverse a string."
   ]
  },
  {
   "cell_type": "code",
   "execution_count": 51,
   "metadata": {},
   "outputs": [
    {
     "name": "stdout",
     "output_type": "stream",
     "text": [
      "The reversed string is: aloh\n"
     ]
    }
   ],
   "source": [
    "# Your code here\n",
    "\n",
    "str=input('Enter a string: ')\n",
    "reversed_str = str[::-1]\n",
    "print('The reversed string is:', reversed_str)"
   ]
  },
  {
   "cell_type": "markdown",
   "metadata": {},
   "source": [
    "**Question 19:** Write a Python program to check if a string is a palindrome."
   ]
  },
  {
   "cell_type": "code",
   "execution_count": 1,
   "metadata": {},
   "outputs": [
    {
     "name": "stdout",
     "output_type": "stream",
     "text": [
      "abba is a palindrome\n"
     ]
    }
   ],
   "source": [
    "# Your code here\n",
    "string = input('Enter a string: ')\n",
    "palindrome = string == string[::-1]\n",
    "if palindrome:\n",
    "    print(string, 'is a palindrome')\n",
    "else:\n",
    "    print(string, 'is not a palindrome')"
   ]
  },
  {
   "cell_type": "markdown",
   "metadata": {},
   "source": [
    "**Question 20:** Write a Python program to sort a list of numbers in ascending order."
   ]
  },
  {
   "cell_type": "code",
   "execution_count": 9,
   "metadata": {},
   "outputs": [
    {
     "name": "stdout",
     "output_type": "stream",
     "text": [
      "[1, 2, 3, 4]\n"
     ]
    }
   ],
   "source": [
    "num = []\n",
    "\n",
    "input_numbers = input('Enter numbers separated by commas: ')\n",
    "for n in input_numbers.split(','):\n",
    "    num.append(int(n))  # No strip here!\n",
    "\n",
    "num.sort()\n",
    "print(num)\n"
   ]
  }
 ],
 "metadata": {
  "kernelspec": {
   "display_name": "Python 3",
   "language": "python",
   "name": "python3"
  },
  "language_info": {
   "codemirror_mode": {
    "name": "ipython",
    "version": 3
   },
   "file_extension": ".py",
   "mimetype": "text/x-python",
   "name": "python",
   "nbconvert_exporter": "python",
   "pygments_lexer": "ipython3",
   "version": "3.12.0"
  }
 },
 "nbformat": 4,
 "nbformat_minor": 4
}
